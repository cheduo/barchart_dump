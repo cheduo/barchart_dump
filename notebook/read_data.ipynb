{
 "cells": [
  {
   "cell_type": "code",
   "execution_count": null,
   "metadata": {},
   "outputs": [
    {
     "name": "stdout",
     "output_type": "stream",
     "text": [
      "Files in data directory:\n",
      "- ES_data.csv\n",
      "- UX_data.csv\n",
      "- ZN_data.csv\n"
     ]
    }
   ],
   "source": [
    "import pandas as pd\n",
    "import os\n",
    "data_path = r\"C:\\Users\\cdsjt\\data\"\n",
    "\n",
    "# List all files in the data directory\n",
    "files = os.listdir(data_path)\n",
    "print(\"Files in data directory:\")\n",
    "for file in files:\n",
    "    print(f\"- {file}\")"
   ]
  },
  {
   "cell_type": "code",
   "execution_count": 3,
   "metadata": {},
   "outputs": [
    {
     "data": {
      "text/html": [
       "<div>\n",
       "<style scoped>\n",
       "    .dataframe tbody tr th:only-of-type {\n",
       "        vertical-align: middle;\n",
       "    }\n",
       "\n",
       "    .dataframe tbody tr th {\n",
       "        vertical-align: top;\n",
       "    }\n",
       "\n",
       "    .dataframe thead th {\n",
       "        text-align: right;\n",
       "    }\n",
       "</style>\n",
       "<table border=\"1\" class=\"dataframe\">\n",
       "  <thead>\n",
       "    <tr style=\"text-align: right;\">\n",
       "      <th></th>\n",
       "      <th>Symbol</th>\n",
       "      <th>Time</th>\n",
       "      <th>Open</th>\n",
       "      <th>High</th>\n",
       "      <th>Low</th>\n",
       "      <th>Last</th>\n",
       "      <th>Change</th>\n",
       "      <th>%Chg</th>\n",
       "      <th>Volume</th>\n",
       "      <th>Open Int</th>\n",
       "    </tr>\n",
       "  </thead>\n",
       "  <tbody>\n",
       "    <tr>\n",
       "      <th>0</th>\n",
       "      <td>ZNM13</td>\n",
       "      <td>2013-03-31 17:01:00</td>\n",
       "      <td>131.78125</td>\n",
       "      <td>131.796875</td>\n",
       "      <td>131.750000</td>\n",
       "      <td>131.750000</td>\n",
       "      <td>-0.031250</td>\n",
       "      <td>-0.02%</td>\n",
       "      <td>714.0</td>\n",
       "      <td>NaN</td>\n",
       "    </tr>\n",
       "    <tr>\n",
       "      <th>1</th>\n",
       "      <td>ZNM13</td>\n",
       "      <td>2013-03-31 17:02:00</td>\n",
       "      <td>131.75000</td>\n",
       "      <td>131.750000</td>\n",
       "      <td>131.734375</td>\n",
       "      <td>131.750000</td>\n",
       "      <td>0.000000</td>\n",
       "      <td>0.00%</td>\n",
       "      <td>251.0</td>\n",
       "      <td>NaN</td>\n",
       "    </tr>\n",
       "    <tr>\n",
       "      <th>2</th>\n",
       "      <td>ZNM13</td>\n",
       "      <td>2013-03-31 17:03:00</td>\n",
       "      <td>131.75000</td>\n",
       "      <td>131.750000</td>\n",
       "      <td>131.734375</td>\n",
       "      <td>131.750000</td>\n",
       "      <td>0.000000</td>\n",
       "      <td>0.00%</td>\n",
       "      <td>752.0</td>\n",
       "      <td>NaN</td>\n",
       "    </tr>\n",
       "    <tr>\n",
       "      <th>3</th>\n",
       "      <td>ZNM13</td>\n",
       "      <td>2013-03-31 17:04:00</td>\n",
       "      <td>131.75000</td>\n",
       "      <td>131.765625</td>\n",
       "      <td>131.750000</td>\n",
       "      <td>131.765625</td>\n",
       "      <td>0.015625</td>\n",
       "      <td>+0.01%</td>\n",
       "      <td>193.0</td>\n",
       "      <td>NaN</td>\n",
       "    </tr>\n",
       "    <tr>\n",
       "      <th>4</th>\n",
       "      <td>ZNM13</td>\n",
       "      <td>2013-03-31 17:05:00</td>\n",
       "      <td>131.78125</td>\n",
       "      <td>131.781250</td>\n",
       "      <td>131.781250</td>\n",
       "      <td>131.781250</td>\n",
       "      <td>0.015625</td>\n",
       "      <td>+0.01%</td>\n",
       "      <td>15.0</td>\n",
       "      <td>NaN</td>\n",
       "    </tr>\n",
       "  </tbody>\n",
       "</table>\n",
       "</div>"
      ],
      "text/plain": [
       "  Symbol                 Time       Open        High         Low        Last  \\\n",
       "0  ZNM13  2013-03-31 17:01:00  131.78125  131.796875  131.750000  131.750000   \n",
       "1  ZNM13  2013-03-31 17:02:00  131.75000  131.750000  131.734375  131.750000   \n",
       "2  ZNM13  2013-03-31 17:03:00  131.75000  131.750000  131.734375  131.750000   \n",
       "3  ZNM13  2013-03-31 17:04:00  131.75000  131.765625  131.750000  131.765625   \n",
       "4  ZNM13  2013-03-31 17:05:00  131.78125  131.781250  131.781250  131.781250   \n",
       "\n",
       "     Change    %Chg  Volume  Open Int  \n",
       "0 -0.031250  -0.02%   714.0       NaN  \n",
       "1  0.000000   0.00%   251.0       NaN  \n",
       "2  0.000000   0.00%   752.0       NaN  \n",
       "3  0.015625  +0.01%   193.0       NaN  \n",
       "4  0.015625  +0.01%    15.0       NaN  "
      ]
     },
     "execution_count": 3,
     "metadata": {},
     "output_type": "execute_result"
    }
   ],
   "source": [
    "# price_data = pd.read_csv(r\"C:\\Users\\cdsjt\\data\\ES_data.csv\")\n",
    "price_data = pd.read_csv(r\"C:\\Users\\cdsjt\\data\\ZN_data.csv\")\n",
    "price_data.head()"
   ]
  }
 ],
 "metadata": {
  "kernelspec": {
   "display_name": "base",
   "language": "python",
   "name": "python3"
  },
  "language_info": {
   "codemirror_mode": {
    "name": "ipython",
    "version": 3
   },
   "file_extension": ".py",
   "mimetype": "text/x-python",
   "name": "python",
   "nbconvert_exporter": "python",
   "pygments_lexer": "ipython3",
   "version": "3.11.7"
  }
 },
 "nbformat": 4,
 "nbformat_minor": 2
}
