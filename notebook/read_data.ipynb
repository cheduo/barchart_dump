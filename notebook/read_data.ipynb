{
 "cells": [
  {
   "cell_type": "code",
   "execution_count": 2,
   "metadata": {},
   "outputs": [
    {
     "name": "stdout",
     "output_type": "stream",
     "text": [
      "Files in data directory:\n",
      "- ES_data.csv\n",
      "- UX_data.csv\n"
     ]
    }
   ],
   "source": [
    "import pandas as pd\n",
    "import os\n",
    "data_path = r\"C:\\Users\\cdsjt\\data\"\n",
    "\n",
    "\n",
    "# List all files in the data directory\n",
    "files = os.listdir(data_path)\n",
    "print(\"Files in data directory:\")\n",
    "for file in files:\n",
    "    print(f\"- {file}\")\n"
   ]
  },
  {
   "cell_type": "code",
   "execution_count": 4,
   "metadata": {},
   "outputs": [
    {
     "data": {
      "text/html": [
       "<div>\n",
       "<style scoped>\n",
       "    .dataframe tbody tr th:only-of-type {\n",
       "        vertical-align: middle;\n",
       "    }\n",
       "\n",
       "    .dataframe tbody tr th {\n",
       "        vertical-align: top;\n",
       "    }\n",
       "\n",
       "    .dataframe thead th {\n",
       "        text-align: right;\n",
       "    }\n",
       "</style>\n",
       "<table border=\"1\" class=\"dataframe\">\n",
       "  <thead>\n",
       "    <tr style=\"text-align: right;\">\n",
       "      <th></th>\n",
       "      <th>Symbol</th>\n",
       "      <th>Time</th>\n",
       "      <th>Open</th>\n",
       "      <th>High</th>\n",
       "      <th>Low</th>\n",
       "      <th>Last</th>\n",
       "      <th>Change</th>\n",
       "      <th>%Chg</th>\n",
       "      <th>Volume</th>\n",
       "      <th>Open Int</th>\n",
       "    </tr>\n",
       "  </thead>\n",
       "  <tbody>\n",
       "    <tr>\n",
       "      <th>0</th>\n",
       "      <td>ESH18</td>\n",
       "      <td>2018-02-02 00:01:00</td>\n",
       "      <td>2817.75</td>\n",
       "      <td>2817.75</td>\n",
       "      <td>2817.50</td>\n",
       "      <td>2817.50</td>\n",
       "      <td>-0.25</td>\n",
       "      <td>-0.01%</td>\n",
       "      <td>43.0</td>\n",
       "      <td>NaN</td>\n",
       "    </tr>\n",
       "    <tr>\n",
       "      <th>1</th>\n",
       "      <td>ESH18</td>\n",
       "      <td>2018-02-02 00:02:00</td>\n",
       "      <td>2817.50</td>\n",
       "      <td>2817.50</td>\n",
       "      <td>2817.50</td>\n",
       "      <td>2817.50</td>\n",
       "      <td>0.00</td>\n",
       "      <td>0.00%</td>\n",
       "      <td>49.0</td>\n",
       "      <td>NaN</td>\n",
       "    </tr>\n",
       "    <tr>\n",
       "      <th>2</th>\n",
       "      <td>ESH18</td>\n",
       "      <td>2018-02-02 00:03:00</td>\n",
       "      <td>2817.25</td>\n",
       "      <td>2817.25</td>\n",
       "      <td>2817.00</td>\n",
       "      <td>2817.25</td>\n",
       "      <td>-0.25</td>\n",
       "      <td>-0.01%</td>\n",
       "      <td>192.0</td>\n",
       "      <td>NaN</td>\n",
       "    </tr>\n",
       "    <tr>\n",
       "      <th>3</th>\n",
       "      <td>ESH18</td>\n",
       "      <td>2018-02-02 00:04:00</td>\n",
       "      <td>2817.00</td>\n",
       "      <td>2817.00</td>\n",
       "      <td>2816.75</td>\n",
       "      <td>2816.75</td>\n",
       "      <td>-0.50</td>\n",
       "      <td>-0.02%</td>\n",
       "      <td>98.0</td>\n",
       "      <td>NaN</td>\n",
       "    </tr>\n",
       "    <tr>\n",
       "      <th>4</th>\n",
       "      <td>ESH18</td>\n",
       "      <td>2018-02-02 00:05:00</td>\n",
       "      <td>2816.75</td>\n",
       "      <td>2817.00</td>\n",
       "      <td>2816.50</td>\n",
       "      <td>2816.50</td>\n",
       "      <td>-0.25</td>\n",
       "      <td>-0.01%</td>\n",
       "      <td>71.0</td>\n",
       "      <td>NaN</td>\n",
       "    </tr>\n",
       "  </tbody>\n",
       "</table>\n",
       "</div>"
      ],
      "text/plain": [
       "  Symbol                 Time     Open     High      Low     Last  Change  \\\n",
       "0  ESH18  2018-02-02 00:01:00  2817.75  2817.75  2817.50  2817.50   -0.25   \n",
       "1  ESH18  2018-02-02 00:02:00  2817.50  2817.50  2817.50  2817.50    0.00   \n",
       "2  ESH18  2018-02-02 00:03:00  2817.25  2817.25  2817.00  2817.25   -0.25   \n",
       "3  ESH18  2018-02-02 00:04:00  2817.00  2817.00  2816.75  2816.75   -0.50   \n",
       "4  ESH18  2018-02-02 00:05:00  2816.75  2817.00  2816.50  2816.50   -0.25   \n",
       "\n",
       "     %Chg  Volume  Open Int  \n",
       "0  -0.01%    43.0       NaN  \n",
       "1   0.00%    49.0       NaN  \n",
       "2  -0.01%   192.0       NaN  \n",
       "3  -0.02%    98.0       NaN  \n",
       "4  -0.01%    71.0       NaN  "
      ]
     },
     "execution_count": 4,
     "metadata": {},
     "output_type": "execute_result"
    }
   ],
   "source": [
    "price_data = pd.read_csv(r\"C:\\Users\\cdsjt\\data\\ES_data.csv\")\n",
    "price_data.head()"
   ]
  }
 ],
 "metadata": {
  "kernelspec": {
   "display_name": "base",
   "language": "python",
   "name": "python3"
  },
  "language_info": {
   "codemirror_mode": {
    "name": "ipython",
    "version": 3
   },
   "file_extension": ".py",
   "mimetype": "text/x-python",
   "name": "python",
   "nbconvert_exporter": "python",
   "pygments_lexer": "ipython3",
   "version": "3.11.7"
  }
 },
 "nbformat": 4,
 "nbformat_minor": 2
}
